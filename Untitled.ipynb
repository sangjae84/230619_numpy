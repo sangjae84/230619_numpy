{
  "nbformat": 4,
  "nbformat_minor": 0,
  "metadata": {
    "colab": {
      "provenance": [],
      "include_colab_link": true
    },
    "kernelspec": {
      "name": "python3",
      "display_name": "Python 3"
    },
    "language_info": {
      "name": "python"
    }
  },
  "cells": [
    {
      "cell_type": "markdown",
      "metadata": {
        "id": "view-in-github",
        "colab_type": "text"
      },
      "source": [
        "<a href=\"https://colab.research.google.com/github/sangjae84/230619_numpy/blob/master/Untitled.ipynb\" target=\"_parent\"><img src=\"https://colab.research.google.com/assets/colab-badge.svg\" alt=\"Open In Colab\"/></a>"
      ]
    },
    {
      "cell_type": "code",
      "execution_count": 1,
      "metadata": {
        "id": "PTBTRedOL4xd"
      },
      "outputs": [],
      "source": [
        "# pip install numpy\n",
        "import numpy as np"
      ]
    },
    {
      "cell_type": "code",
      "source": [
        "#@title 1차원 배열\n",
        "np.array([1, 2, 3])"
      ],
      "metadata": {
        "id": "rNQlME2WVBZK",
        "outputId": "8cf9a04e-1a38-4584-9e5b-4a25f6f0358d",
        "colab": {
          "base_uri": "https://localhost:8080/"
        }
      },
      "execution_count": 3,
      "outputs": [
        {
          "output_type": "execute_result",
          "data": {
            "text/plain": [
              "array([1, 2, 3])"
            ]
          },
          "metadata": {},
          "execution_count": 3
        }
      ]
    },
    {
      "cell_type": "code",
      "source": [
        "np.array(range(3))"
      ],
      "metadata": {
        "id": "ErvZ6Rz1VUZV",
        "outputId": "78a93ec9-7ad7-410a-a33b-4693fb3d475f",
        "colab": {
          "base_uri": "https://localhost:8080/"
        }
      },
      "execution_count": 5,
      "outputs": [
        {
          "output_type": "execute_result",
          "data": {
            "text/plain": [
              "array([0, 1, 2])"
            ]
          },
          "metadata": {},
          "execution_count": 5
        }
      ]
    },
    {
      "cell_type": "code",
      "source": [
        "np.arange(3)"
      ],
      "metadata": {
        "id": "I6tsFAZrVbwT",
        "outputId": "f691a63a-b05d-4253-9471-2ed5b7eed014",
        "colab": {
          "base_uri": "https://localhost:8080/"
        }
      },
      "execution_count": 7,
      "outputs": [
        {
          "output_type": "execute_result",
          "data": {
            "text/plain": [
              "array([0, 1, 2])"
            ]
          },
          "metadata": {},
          "execution_count": 7
        }
      ]
    },
    {
      "cell_type": "code",
      "source": [
        "#@title 벡터화 연산\n",
        "a = np.arange(10)\n",
        "a"
      ],
      "metadata": {
        "id": "fXAElQUjVi0z",
        "outputId": "44d7ed6d-111a-455e-84df-4413d6db4f94",
        "colab": {
          "base_uri": "https://localhost:8080/"
        }
      },
      "execution_count": 9,
      "outputs": [
        {
          "output_type": "execute_result",
          "data": {
            "text/plain": [
              "array([0, 1, 2, 3, 4, 5, 6, 7, 8, 9])"
            ]
          },
          "metadata": {},
          "execution_count": 9
        }
      ]
    },
    {
      "cell_type": "code",
      "source": [
        "a + 5"
      ],
      "metadata": {
        "id": "ukp2-7P6VsrP",
        "outputId": "a3dd2421-069b-4aa8-cde7-424adfd9b402",
        "colab": {
          "base_uri": "https://localhost:8080/"
        }
      },
      "execution_count": 10,
      "outputs": [
        {
          "output_type": "execute_result",
          "data": {
            "text/plain": [
              "array([ 5,  6,  7,  8,  9, 10, 11, 12, 13, 14])"
            ]
          },
          "metadata": {},
          "execution_count": 10
        }
      ]
    },
    {
      "cell_type": "code",
      "source": [
        "a - 2"
      ],
      "metadata": {
        "id": "qt5LSayxV0iD",
        "outputId": "81f1d818-1968-4b97-fa9b-306e77757178",
        "colab": {
          "base_uri": "https://localhost:8080/"
        }
      },
      "execution_count": 11,
      "outputs": [
        {
          "output_type": "execute_result",
          "data": {
            "text/plain": [
              "array([-2, -1,  0,  1,  2,  3,  4,  5,  6,  7])"
            ]
          },
          "metadata": {},
          "execution_count": 11
        }
      ]
    },
    {
      "cell_type": "code",
      "source": [
        "a % 7"
      ],
      "metadata": {
        "id": "q9LEQUwYV2Ro",
        "outputId": "b7e7191e-7ec0-4235-db9d-3afbc889c5f0",
        "colab": {
          "base_uri": "https://localhost:8080/"
        }
      },
      "execution_count": 12,
      "outputs": [
        {
          "output_type": "execute_result",
          "data": {
            "text/plain": [
              "array([0, 1, 2, 3, 4, 5, 6, 0, 1, 2])"
            ]
          },
          "metadata": {},
          "execution_count": 12
        }
      ]
    },
    {
      "cell_type": "code",
      "source": [
        "a == 10"
      ],
      "metadata": {
        "id": "s9toSEPsV5nO",
        "outputId": "a412a426-cc15-4c18-9e0d-0f36b0606e20",
        "colab": {
          "base_uri": "https://localhost:8080/"
        }
      },
      "execution_count": 13,
      "outputs": [
        {
          "output_type": "execute_result",
          "data": {
            "text/plain": [
              "array([False, False, False, False, False, False, False, False, False,\n",
              "       False])"
            ]
          },
          "metadata": {},
          "execution_count": 13
        }
      ]
    },
    {
      "cell_type": "code",
      "source": [
        "a > 5"
      ],
      "metadata": {
        "id": "BLh_iSJpV-9I",
        "outputId": "9d6b7ea4-dd46-4e84-c363-c31d3ce91456",
        "colab": {
          "base_uri": "https://localhost:8080/"
        }
      },
      "execution_count": 14,
      "outputs": [
        {
          "output_type": "execute_result",
          "data": {
            "text/plain": [
              "array([False, False, False, False, False, False,  True,  True,  True,\n",
              "        True])"
            ]
          },
          "metadata": {},
          "execution_count": 14
        }
      ]
    },
    {
      "cell_type": "code",
      "source": [
        "(a > 5) & (a < 7)\n"
      ],
      "metadata": {
        "id": "UANvt8mkV_rG",
        "outputId": "7b90fa5b-883a-4a83-aa5a-7ac0c47dfed0",
        "colab": {
          "base_uri": "https://localhost:8080/"
        }
      },
      "execution_count": 16,
      "outputs": [
        {
          "output_type": "execute_result",
          "data": {
            "text/plain": [
              "array([False, False, False, False, False, False,  True, False, False,\n",
              "       False])"
            ]
          },
          "metadata": {},
          "execution_count": 16
        }
      ]
    },
    {
      "cell_type": "code",
      "source": [
        "#@title 2차원 배열\n",
        "arr = np.array([[0, 1, 2], [3, 4, 5]])\n",
        "arr"
      ],
      "metadata": {
        "id": "WZXRM6sXWIkR"
      },
      "execution_count": null,
      "outputs": []
    },
    {
      "cell_type": "code",
      "source": [
        "arr = np.arange(6).reshape(2, -1)\n",
        "arr"
      ],
      "metadata": {
        "id": "YZqt-w3tWBxC",
        "outputId": "070a7db2-3b2a-405c-92c4-26f9a82f0b11",
        "colab": {
          "base_uri": "https://localhost:8080/"
        }
      },
      "execution_count": 17,
      "outputs": [
        {
          "output_type": "execute_result",
          "data": {
            "text/plain": [
              "array([[0, 1, 2],\n",
              "       [3, 4, 5]])"
            ]
          },
          "metadata": {},
          "execution_count": 17
        }
      ]
    },
    {
      "cell_type": "code",
      "source": [
        "arr = np.arange(6).reshape(2, -1)\n",
        "arr"
      ],
      "metadata": {
        "id": "CA56lPY_WUQm",
        "outputId": "6265a810-2cdc-4ed7-d919-02599f91e647",
        "colab": {
          "base_uri": "https://localhost:8080/"
        }
      },
      "execution_count": 18,
      "outputs": [
        {
          "output_type": "execute_result",
          "data": {
            "text/plain": [
              "array([[0, 1, 2],\n",
              "       [3, 4, 5]])"
            ]
          },
          "metadata": {},
          "execution_count": 18
        }
      ]
    },
    {
      "cell_type": "code",
      "source": [
        "arr, arr.ndim, arr.shape"
      ],
      "metadata": {
        "id": "wOk9iqBCWmhj",
        "outputId": "eafe8f73-8582-470d-979d-b62a3c4c9347",
        "colab": {
          "base_uri": "https://localhost:8080/"
        }
      },
      "execution_count": 19,
      "outputs": [
        {
          "output_type": "execute_result",
          "data": {
            "text/plain": [
              "(array([[0, 1, 2],\n",
              "        [3, 4, 5]]),\n",
              " 2,\n",
              " (2, 3))"
            ]
          },
          "metadata": {},
          "execution_count": 19
        }
      ]
    },
    {
      "cell_type": "code",
      "source": [
        "#@title 3차원배열\n",
        "t = np.arange(24).reshape(2, 3, -1)\n",
        "t, t.ndim, t.shape"
      ],
      "metadata": {
        "id": "4VALGBt8Woql",
        "outputId": "2a1d2603-1719-47f7-f73e-e10dd19d44c3",
        "colab": {
          "base_uri": "https://localhost:8080/"
        }
      },
      "execution_count": 20,
      "outputs": [
        {
          "output_type": "execute_result",
          "data": {
            "text/plain": [
              "(array([[[ 0,  1,  2,  3],\n",
              "         [ 4,  5,  6,  7],\n",
              "         [ 8,  9, 10, 11]],\n",
              " \n",
              "        [[12, 13, 14, 15],\n",
              "         [16, 17, 18, 19],\n",
              "         [20, 21, 22, 23]]]),\n",
              " 3,\n",
              " (2, 3, 4))"
            ]
          },
          "metadata": {},
          "execution_count": 20
        }
      ]
    },
    {
      "cell_type": "code",
      "source": [
        "#@title 배열 복사\n",
        "v = t.view()\n",
        "c = t.copy()\n",
        "t[0][0] = 100\n",
        "t, v,c"
      ],
      "metadata": {
        "id": "OcICPh-jW2Gl",
        "outputId": "6661abe2-ddbc-4ebc-a027-663d9ae9ed86",
        "colab": {
          "base_uri": "https://localhost:8080/"
        }
      },
      "execution_count": 21,
      "outputs": [
        {
          "output_type": "execute_result",
          "data": {
            "text/plain": [
              "(array([[[100, 100, 100, 100],\n",
              "         [  4,   5,   6,   7],\n",
              "         [  8,   9,  10,  11]],\n",
              " \n",
              "        [[ 12,  13,  14,  15],\n",
              "         [ 16,  17,  18,  19],\n",
              "         [ 20,  21,  22,  23]]]),\n",
              " array([[[100, 100, 100, 100],\n",
              "         [  4,   5,   6,   7],\n",
              "         [  8,   9,  10,  11]],\n",
              " \n",
              "        [[ 12,  13,  14,  15],\n",
              "         [ 16,  17,  18,  19],\n",
              "         [ 20,  21,  22,  23]]]),\n",
              " array([[[ 0,  1,  2,  3],\n",
              "         [ 4,  5,  6,  7],\n",
              "         [ 8,  9, 10, 11]],\n",
              " \n",
              "        [[12, 13, 14, 15],\n",
              "         [16, 17, 18, 19],\n",
              "         [20, 21, 22, 23]]]))"
            ]
          },
          "metadata": {},
          "execution_count": 21
        }
      ]
    },
    {
      "cell_type": "code",
      "source": [
        "#@title 배열의 인덱싱\n",
        "# 일차원 배열 = 리스트의 인덱싱\n",
        "a = np.arange(5)\n",
        "print(a)\n",
        "a[0], a[-1]\n"
      ],
      "metadata": {
        "id": "YworKvJCXPMs",
        "outputId": "16db3fcf-000a-4b30-9ca2-8075468f65fa",
        "colab": {
          "base_uri": "https://localhost:8080/"
        }
      },
      "execution_count": 22,
      "outputs": [
        {
          "output_type": "stream",
          "name": "stdout",
          "text": [
            "[0 1 2 3 4]\n"
          ]
        },
        {
          "output_type": "execute_result",
          "data": {
            "text/plain": [
              "(0, 4)"
            ]
          },
          "metadata": {},
          "execution_count": 22
        }
      ]
    },
    {
      "cell_type": "code",
      "source": [
        "# 다차원 배열 -> [] -> ,를 통해서 축을 구분\n",
        "b = np.arange(6).reshape(2, -1)\n",
        "b, b.ndim, b.shape"
      ],
      "metadata": {
        "id": "rh95FelRXz33",
        "outputId": "1d95004c-4b48-443a-ed3e-48cb2da1990c",
        "colab": {
          "base_uri": "https://localhost:8080/"
        }
      },
      "execution_count": 23,
      "outputs": [
        {
          "output_type": "execute_result",
          "data": {
            "text/plain": [
              "(array([[0, 1, 2],\n",
              "        [3, 4, 5]]),\n",
              " 2,\n",
              " (2, 3))"
            ]
          },
          "metadata": {},
          "execution_count": 23
        }
      ]
    },
    {
      "cell_type": "code",
      "source": [
        "b[0, 0]"
      ],
      "metadata": {
        "id": "h5NLMtE5YG_Z",
        "outputId": "7263b1db-8b5c-4593-8ef5-09d0bd953196",
        "colab": {
          "base_uri": "https://localhost:8080/"
        }
      },
      "execution_count": 24,
      "outputs": [
        {
          "output_type": "execute_result",
          "data": {
            "text/plain": [
              "0"
            ]
          },
          "metadata": {},
          "execution_count": 24
        }
      ]
    },
    {
      "cell_type": "code",
      "source": [
        "b[0, 0] = 200\n",
        "b"
      ],
      "metadata": {
        "id": "kbdQvJoiYIyE",
        "outputId": "4e754e3c-c13c-4e83-d157-19c45cbdc036",
        "colab": {
          "base_uri": "https://localhost:8080/"
        }
      },
      "execution_count": 27,
      "outputs": [
        {
          "output_type": "execute_result",
          "data": {
            "text/plain": [
              "array([[200,   1,   2],\n",
              "       [  3,   4,   5]])"
            ]
          },
          "metadata": {},
          "execution_count": 27
        }
      ]
    },
    {
      "cell_type": "code",
      "source": [
        "#@title 배열 슬라이싱\n",
        "# 다차원 배열 슬라이싱 -> 파이썬 슬라이싱 + 축(axis) ,를 같이 쓰면 된다\n",
        "a = np.arange(8).reshape(2, -1)\n",
        "a"
      ],
      "metadata": {
        "id": "akUi3_prYObI",
        "outputId": "8efd865c-2e48-441c-e40a-02f84fc549f1",
        "colab": {
          "base_uri": "https://localhost:8080/"
        }
      },
      "execution_count": 28,
      "outputs": [
        {
          "output_type": "execute_result",
          "data": {
            "text/plain": [
              "array([[0, 1, 2, 3],\n",
              "       [4, 5, 6, 7]])"
            ]
          },
          "metadata": {},
          "execution_count": 28
        }
      ]
    },
    {
      "cell_type": "code",
      "source": [
        "a[0], a[0,:]"
      ],
      "metadata": {
        "id": "TzZLg8ePYfW1",
        "outputId": "de6bb89a-e66a-4563-f1b7-6a82fa58f589",
        "colab": {
          "base_uri": "https://localhost:8080/"
        }
      },
      "execution_count": 29,
      "outputs": [
        {
          "output_type": "execute_result",
          "data": {
            "text/plain": [
              "(array([0, 1, 2, 3]), array([0, 1, 2, 3]))"
            ]
          },
          "metadata": {},
          "execution_count": 29
        }
      ]
    },
    {
      "cell_type": "code",
      "source": [
        "a[:, 1]"
      ],
      "metadata": {
        "id": "Gfkw3G1dYjYa",
        "outputId": "7e3154e1-c9c6-4235-892f-61af5f2d2404",
        "colab": {
          "base_uri": "https://localhost:8080/"
        }
      },
      "execution_count": 30,
      "outputs": [
        {
          "output_type": "execute_result",
          "data": {
            "text/plain": [
              "array([1, 5])"
            ]
          },
          "metadata": {},
          "execution_count": 30
        }
      ]
    },
    {
      "cell_type": "code",
      "source": [
        "a[1, 1:]"
      ],
      "metadata": {
        "id": "RSRljBbXYz6o",
        "outputId": "7cab2b43-ed43-4fb2-b43e-15b4dc515399",
        "colab": {
          "base_uri": "https://localhost:8080/"
        }
      },
      "execution_count": 31,
      "outputs": [
        {
          "output_type": "execute_result",
          "data": {
            "text/plain": [
              "array([5, 6, 7])"
            ]
          },
          "metadata": {},
          "execution_count": 31
        }
      ]
    },
    {
      "cell_type": "code",
      "source": [
        "a[1:3, 0:2]"
      ],
      "metadata": {
        "id": "Tf52z_AGY1jL",
        "outputId": "4b1b8b9a-b135-4572-fdf0-f1dfdbf14fcd",
        "colab": {
          "base_uri": "https://localhost:8080/"
        }
      },
      "execution_count": 32,
      "outputs": [
        {
          "output_type": "execute_result",
          "data": {
            "text/plain": [
              "array([[4, 5]])"
            ]
          },
          "metadata": {},
          "execution_count": 32
        }
      ]
    },
    {
      "cell_type": "code",
      "source": [
        "#@title 배열 인덱싱 (불리언 배열, 정수 배열)\n",
        "# 불리언 배열\n",
        "a1 = np.arange(1, 10, 2)\n",
        "a2 = np.arange(1, 10)\n",
        "a1, a2[a2 % 2 != 0], a2[::2]"
      ],
      "metadata": {
        "id": "Pcq-Oy8AY3n_",
        "outputId": "fa885026-bc25-407f-a3fa-a60f76e9c77f",
        "colab": {
          "base_uri": "https://localhost:8080/"
        }
      },
      "execution_count": 33,
      "outputs": [
        {
          "output_type": "execute_result",
          "data": {
            "text/plain": [
              "(array([1, 3, 5, 7, 9]), array([1, 3, 5, 7, 9]), array([1, 3, 5, 7, 9]))"
            ]
          },
          "metadata": {},
          "execution_count": 33
        }
      ]
    },
    {
      "cell_type": "code",
      "source": [
        "# 정수 배열\n",
        "idx = np.arange(0, 9, 3)\n",
        "idx, a2[idx]"
      ],
      "metadata": {
        "id": "tRbTPdQAZsIj",
        "outputId": "ac42356c-fae3-49c8-9daa-cfa299faf4de",
        "colab": {
          "base_uri": "https://localhost:8080/"
        }
      },
      "execution_count": 34,
      "outputs": [
        {
          "output_type": "execute_result",
          "data": {
            "text/plain": [
              "(array([0, 3, 6]), array([1, 4, 7]))"
            ]
          },
          "metadata": {},
          "execution_count": 34
        }
      ]
    },
    {
      "cell_type": "code",
      "source": [
        "import random\n",
        "\n",
        "r = random.choices(range(len(a2)), k=20)\n",
        "r, a2[r]"
      ],
      "metadata": {
        "id": "QM0S12o_Ztz3",
        "outputId": "b5971c85-a9cf-497b-9df2-4c3af3586b28",
        "colab": {
          "base_uri": "https://localhost:8080/"
        }
      },
      "execution_count": 37,
      "outputs": [
        {
          "output_type": "execute_result",
          "data": {
            "text/plain": [
              "([1, 6, 4, 5, 4, 7, 6, 3, 1, 4, 1, 6, 4, 6, 1, 2, 5, 7, 1, 3],\n",
              " array([2, 7, 5, 6, 5, 8, 7, 4, 2, 5, 2, 7, 5, 7, 2, 3, 6, 8, 2, 4]))"
            ]
          },
          "metadata": {},
          "execution_count": 37
        }
      ]
    },
    {
      "cell_type": "code",
      "source": [
        "#@title 다차원 배열에서의 배열 인덱싱\n",
        "a = np.arange(1, 13).reshape(3, -1)\n",
        "a, a.ndim, a.shape"
      ],
      "metadata": {
        "id": "CJHeIu0ZZ5LD",
        "outputId": "ddde5496-4329-4a9e-b2c5-c70c471502ce",
        "colab": {
          "base_uri": "https://localhost:8080/"
        }
      },
      "execution_count": 38,
      "outputs": [
        {
          "output_type": "execute_result",
          "data": {
            "text/plain": [
              "(array([[ 1,  2,  3,  4],\n",
              "        [ 5,  6,  7,  8],\n",
              "        [ 9, 10, 11, 12]]),\n",
              " 2,\n",
              " (3, 4))"
            ]
          },
          "metadata": {},
          "execution_count": 38
        }
      ]
    },
    {
      "cell_type": "code",
      "source": [
        "a[:, [0, 3]]"
      ],
      "metadata": {
        "id": "daJq-ktCaaIm",
        "outputId": "7a3ad147-44e0-4b80-ba36-43093011b2ab",
        "colab": {
          "base_uri": "https://localhost:8080/"
        }
      },
      "execution_count": 39,
      "outputs": [
        {
          "output_type": "execute_result",
          "data": {
            "text/plain": [
              "array([[ 1,  4],\n",
              "       [ 5,  8],\n",
              "       [ 9, 12]])"
            ]
          },
          "metadata": {},
          "execution_count": 39
        }
      ]
    },
    {
      "cell_type": "code",
      "source": [
        "a[:, [3, 0]]"
      ],
      "metadata": {
        "id": "glr9kKvVacoN",
        "outputId": "6b4835ed-43fa-4c3c-bbe8-4c43c0819f1f",
        "colab": {
          "base_uri": "https://localhost:8080/"
        }
      },
      "execution_count": 40,
      "outputs": [
        {
          "output_type": "execute_result",
          "data": {
            "text/plain": [
              "array([[ 4,  1],\n",
              "       [ 8,  5],\n",
              "       [12,  9]])"
            ]
          },
          "metadata": {},
          "execution_count": 40
        }
      ]
    },
    {
      "cell_type": "code",
      "source": [
        "a[::-1, [3, 0]]"
      ],
      "metadata": {
        "id": "1C2mPGA9aepT",
        "outputId": "7ac09f57-3c2a-41dd-86ca-93ed575515b6",
        "colab": {
          "base_uri": "https://localhost:8080/"
        }
      },
      "execution_count": 41,
      "outputs": [
        {
          "output_type": "execute_result",
          "data": {
            "text/plain": [
              "array([[12,  9],\n",
              "       [ 8,  5],\n",
              "       [ 4,  1]])"
            ]
          },
          "metadata": {},
          "execution_count": 41
        }
      ]
    },
    {
      "cell_type": "code",
      "source": [
        "a[:, [True, True, False, False]]"
      ],
      "metadata": {
        "id": "Ocu6iD2fahNE",
        "outputId": "5ca542e9-e383-4c1e-d755-2f48f60a7b8f",
        "colab": {
          "base_uri": "https://localhost:8080/"
        }
      },
      "execution_count": 42,
      "outputs": [
        {
          "output_type": "execute_result",
          "data": {
            "text/plain": [
              "array([[ 1,  2],\n",
              "       [ 5,  6],\n",
              "       [ 9, 10]])"
            ]
          },
          "metadata": {},
          "execution_count": 42
        }
      ]
    },
    {
      "cell_type": "code",
      "source": [
        "a[[2, 0, 1], :]"
      ],
      "metadata": {
        "id": "ivq_Yk79ak5z",
        "outputId": "6b029b23-62a1-4a2c-843f-e3666bd0fc4a",
        "colab": {
          "base_uri": "https://localhost:8080/"
        }
      },
      "execution_count": 43,
      "outputs": [
        {
          "output_type": "execute_result",
          "data": {
            "text/plain": [
              "array([[ 9, 10, 11, 12],\n",
              "       [ 1,  2,  3,  4],\n",
              "       [ 5,  6,  7,  8]])"
            ]
          },
          "metadata": {},
          "execution_count": 43
        }
      ]
    },
    {
      "cell_type": "code",
      "source": [
        "np.where(a % 2 == 0)  # 다차원 배열 -> 행별로 인덱스"
      ],
      "metadata": {
        "id": "HiU9CDVAaueQ",
        "outputId": "a972f3f0-a60a-454b-ebee-da415aa5366b",
        "colab": {
          "base_uri": "https://localhost:8080/"
        }
      },
      "execution_count": 44,
      "outputs": [
        {
          "output_type": "execute_result",
          "data": {
            "text/plain": [
              "(array([0, 0, 1, 1, 2, 2]), array([1, 3, 1, 3, 1, 3]))"
            ]
          },
          "metadata": {},
          "execution_count": 44
        }
      ]
    },
    {
      "cell_type": "code",
      "source": [
        "arr = np.arange(1, 9)\n",
        "np.where(arr % 2 == 0)"
      ],
      "metadata": {
        "id": "VX-zBmCIawO_",
        "outputId": "07aab51c-8443-4939-b577-b37907798ff0",
        "colab": {
          "base_uri": "https://localhost:8080/"
        }
      },
      "execution_count": 45,
      "outputs": [
        {
          "output_type": "execute_result",
          "data": {
            "text/plain": [
              "(array([1, 3, 5, 7]),)"
            ]
          },
          "metadata": {},
          "execution_count": 45
        }
      ]
    },
    {
      "cell_type": "markdown",
      "source": [
        "배열의 생성과 변형\n"
      ],
      "metadata": {
        "id": "UGOdwkzPa8F5"
      }
    },
    {
      "cell_type": "code",
      "source": [
        "x = np.arange(1, 4)\n",
        "x, x.ndim, x.shape, x.dtype"
      ],
      "metadata": {
        "id": "1m9XrOU3a_9S",
        "outputId": "622e7eac-b41f-4084-9da3-661e865df689",
        "colab": {
          "base_uri": "https://localhost:8080/"
        }
      },
      "execution_count": 46,
      "outputs": [
        {
          "output_type": "execute_result",
          "data": {
            "text/plain": [
              "(array([1, 2, 3]), 1, (3,), dtype('int64'))"
            ]
          },
          "metadata": {},
          "execution_count": 46
        }
      ]
    },
    {
      "cell_type": "code",
      "source": [
        "x = np.arange(1.0, 4.0)\n",
        "x, x.ndim, x.shape, x.dtype"
      ],
      "metadata": {
        "id": "w-7auCDMbh7R",
        "outputId": "2a89324d-671d-4301-c3b2-ef5b79c3b534",
        "colab": {
          "base_uri": "https://localhost:8080/"
        }
      },
      "execution_count": 47,
      "outputs": [
        {
          "output_type": "execute_result",
          "data": {
            "text/plain": [
              "(array([1., 2., 3.]), 1, (3,), dtype('float64'))"
            ]
          },
          "metadata": {},
          "execution_count": 47
        }
      ]
    },
    {
      "cell_type": "code",
      "source": [
        "x = np.arange(1.0, 4)\n",
        "x, x.ndim, x.shape, x.dtype"
      ],
      "metadata": {
        "id": "Y324gChpbjsZ",
        "outputId": "1f75ea65-ff84-4e2c-bd63-0dc6de05038e",
        "colab": {
          "base_uri": "https://localhost:8080/"
        }
      },
      "execution_count": 48,
      "outputs": [
        {
          "output_type": "execute_result",
          "data": {
            "text/plain": [
              "(array([1., 2., 3.]), 1, (3,), dtype('float64'))"
            ]
          },
          "metadata": {},
          "execution_count": 48
        }
      ]
    },
    {
      "cell_type": "code",
      "source": [
        "x = np.arange(1, 4, dtype='f')\n",
        "x, x.ndim, x.shape, x.dtype"
      ],
      "metadata": {
        "id": "booqyqEIbnkT",
        "outputId": "ed1a5fc9-8b0d-4ec6-9ba3-45eb3a7f0159",
        "colab": {
          "base_uri": "https://localhost:8080/"
        }
      },
      "execution_count": 49,
      "outputs": [
        {
          "output_type": "execute_result",
          "data": {
            "text/plain": [
              "(array([1., 2., 3.], dtype=float32), 1, (3,), dtype('float32'))"
            ]
          },
          "metadata": {},
          "execution_count": 49
        }
      ]
    },
    {
      "cell_type": "code",
      "source": [
        "np.inf  # 1/0 같은 무한대가 나오는 상황... (에러 안 나고...)"
      ],
      "metadata": {
        "id": "5rZqPUpBc1aL",
        "outputId": "597ee965-405c-44b4-cd19-967ea4f22732",
        "colab": {
          "base_uri": "https://localhost:8080/"
        }
      },
      "execution_count": 50,
      "outputs": [
        {
          "output_type": "execute_result",
          "data": {
            "text/plain": [
              "inf"
            ]
          },
          "metadata": {},
          "execution_count": 50
        }
      ]
    },
    {
      "cell_type": "code",
      "source": [
        "np.nan  # 0/0 나누던가, nan(null)이 낀 연산 -> 값이 나올 수 없는 연산"
      ],
      "metadata": {
        "id": "jrhayPjVc5yw",
        "outputId": "5de5b3db-1e0e-4119-e30d-6fffe659d7a1",
        "colab": {
          "base_uri": "https://localhost:8080/"
        }
      },
      "execution_count": 51,
      "outputs": [
        {
          "output_type": "execute_result",
          "data": {
            "text/plain": [
              "nan"
            ]
          },
          "metadata": {},
          "execution_count": 51
        }
      ]
    },
    {
      "cell_type": "code",
      "source": [
        "#@title 배열 생성\n",
        "np.zeros(5)"
      ],
      "metadata": {
        "id": "d_04iwozdBlP",
        "outputId": "e4c894c4-190f-4825-fd33-3b4703ce39af",
        "colab": {
          "base_uri": "https://localhost:8080/"
        }
      },
      "execution_count": 52,
      "outputs": [
        {
          "output_type": "execute_result",
          "data": {
            "text/plain": [
              "array([0., 0., 0., 0., 0.])"
            ]
          },
          "metadata": {},
          "execution_count": 52
        }
      ]
    },
    {
      "cell_type": "code",
      "source": [
        "x = np.zeros((3, 5, 1))\n",
        "x"
      ],
      "metadata": {
        "id": "djCRVdDydGsM",
        "outputId": "2fda9cb5-4b6d-46e6-84ae-0eaeb728f39b",
        "colab": {
          "base_uri": "https://localhost:8080/"
        }
      },
      "execution_count": 53,
      "outputs": [
        {
          "output_type": "execute_result",
          "data": {
            "text/plain": [
              "array([[[0.],\n",
              "        [0.],\n",
              "        [0.],\n",
              "        [0.],\n",
              "        [0.]],\n",
              "\n",
              "       [[0.],\n",
              "        [0.],\n",
              "        [0.],\n",
              "        [0.],\n",
              "        [0.]],\n",
              "\n",
              "       [[0.],\n",
              "        [0.],\n",
              "        [0.],\n",
              "        [0.],\n",
              "        [0.]]])"
            ]
          },
          "metadata": {},
          "execution_count": 53
        }
      ]
    },
    {
      "cell_type": "code",
      "source": [
        "np.ones(5)"
      ],
      "metadata": {
        "id": "_qrF2lPMdTB8",
        "outputId": "ee44fecc-94f4-46cd-94fe-2e3cf5b87a77",
        "colab": {
          "base_uri": "https://localhost:8080/"
        }
      },
      "execution_count": 54,
      "outputs": [
        {
          "output_type": "execute_result",
          "data": {
            "text/plain": [
              "array([1., 1., 1., 1., 1.])"
            ]
          },
          "metadata": {},
          "execution_count": 54
        }
      ]
    },
    {
      "cell_type": "code",
      "source": [
        "np.ones((3, 2, 5))"
      ],
      "metadata": {
        "id": "mVen44OsdY2y",
        "outputId": "6f62e74e-1547-40cb-aacf-62b94c3e6ff3",
        "colab": {
          "base_uri": "https://localhost:8080/"
        }
      },
      "execution_count": 55,
      "outputs": [
        {
          "output_type": "execute_result",
          "data": {
            "text/plain": [
              "array([[[1., 1., 1., 1., 1.],\n",
              "        [1., 1., 1., 1., 1.]],\n",
              "\n",
              "       [[1., 1., 1., 1., 1.],\n",
              "        [1., 1., 1., 1., 1.]],\n",
              "\n",
              "       [[1., 1., 1., 1., 1.],\n",
              "        [1., 1., 1., 1., 1.]]])"
            ]
          },
          "metadata": {},
          "execution_count": 55
        }
      ]
    },
    {
      "cell_type": "code",
      "source": [
        "np.ones_like(x)"
      ],
      "metadata": {
        "id": "JBj9tGp5dbBE",
        "outputId": "d76476f0-0047-4c2b-92db-405cc49b6714",
        "colab": {
          "base_uri": "https://localhost:8080/"
        }
      },
      "execution_count": 56,
      "outputs": [
        {
          "output_type": "execute_result",
          "data": {
            "text/plain": [
              "array([[[1.],\n",
              "        [1.],\n",
              "        [1.],\n",
              "        [1.],\n",
              "        [1.]],\n",
              "\n",
              "       [[1.],\n",
              "        [1.],\n",
              "        [1.],\n",
              "        [1.],\n",
              "        [1.]],\n",
              "\n",
              "       [[1.],\n",
              "        [1.],\n",
              "        [1.],\n",
              "        [1.],\n",
              "        [1.]]])"
            ]
          },
          "metadata": {},
          "execution_count": 56
        }
      ]
    },
    {
      "cell_type": "code",
      "source": [
        "np.empty(5)  # 값이 뭐가 나올지 몰라"
      ],
      "metadata": {
        "id": "oU2U1pwedh0H",
        "outputId": "f38234b5-efdd-4a17-82da-457de174a263",
        "colab": {
          "base_uri": "https://localhost:8080/"
        }
      },
      "execution_count": 57,
      "outputs": [
        {
          "output_type": "execute_result",
          "data": {
            "text/plain": [
              "array([1., 1., 1., 1., 1.])"
            ]
          },
          "metadata": {},
          "execution_count": 57
        }
      ]
    },
    {
      "cell_type": "code",
      "source": [
        "np.linspace(1, 10, 5) # 선형적으로 균등분배된 구간 (선형구간)"
      ],
      "metadata": {
        "id": "fb_A2d2-dl0J"
      },
      "execution_count": null,
      "outputs": []
    },
    {
      "cell_type": "code",
      "source": [
        "np.logspace(0, 1, 10, 5)"
      ],
      "metadata": {
        "id": "8QWnaEAQdn1p",
        "outputId": "70d02ad1-414c-450f-839d-ab5e4d97cddc",
        "colab": {
          "base_uri": "https://localhost:8080/"
        }
      },
      "execution_count": 58,
      "outputs": [
        {
          "output_type": "execute_result",
          "data": {
            "text/plain": [
              "array([ 1.        ,  1.29154967,  1.66810054,  2.15443469,  2.7825594 ,\n",
              "        3.59381366,  4.64158883,  5.9948425 ,  7.74263683, 10.        ])"
            ]
          },
          "metadata": {},
          "execution_count": 58
        }
      ]
    },
    {
      "cell_type": "code",
      "source": [
        "A = np.arange(1, 7).reshape(2, -1)\n",
        "A"
      ],
      "metadata": {
        "id": "1WddxxMtdzpA",
        "outputId": "b33c4e00-dff9-4b53-ae23-a253b17fdb91",
        "colab": {
          "base_uri": "https://localhost:8080/"
        }
      },
      "execution_count": 59,
      "outputs": [
        {
          "output_type": "execute_result",
          "data": {
            "text/plain": [
              "array([[1, 2, 3],\n",
              "       [4, 5, 6]])"
            ]
          },
          "metadata": {},
          "execution_count": 59
        }
      ]
    },
    {
      "cell_type": "code",
      "source": [
        "A.T"
      ],
      "metadata": {
        "id": "Mv-C8bUYd54X",
        "outputId": "d1b528b7-7b45-48ef-b777-cd0177c09a04",
        "colab": {
          "base_uri": "https://localhost:8080/"
        }
      },
      "execution_count": 60,
      "outputs": [
        {
          "output_type": "execute_result",
          "data": {
            "text/plain": [
              "array([1, 2, 3, 4, 5, 6])"
            ]
          },
          "metadata": {},
          "execution_count": 60
        }
      ]
    },
    {
      "cell_type": "code",
      "source": [
        "A.reshape(-1)  # -1 => 전체 길이"
      ],
      "metadata": {
        "id": "vZ_NFeYkd8bR",
        "outputId": "ec7bf3e1-61aa-4343-b27f-dd6017f0e34e",
        "colab": {
          "base_uri": "https://localhost:8080/"
        }
      },
      "execution_count": 61,
      "outputs": [
        {
          "output_type": "execute_result",
          "data": {
            "text/plain": [
              "array([1, 2, 3, 4, 5, 6])"
            ]
          },
          "metadata": {},
          "execution_count": 61
        }
      ]
    },
    {
      "cell_type": "code",
      "source": [
        "A, A.flatten(), A.ravel()"
      ],
      "metadata": {
        "id": "lsn1pedAeG9X",
        "outputId": "cd53fb9d-3487-42a9-9561-dbd076aaafc1",
        "colab": {
          "base_uri": "https://localhost:8080/"
        }
      },
      "execution_count": 62,
      "outputs": [
        {
          "output_type": "execute_result",
          "data": {
            "text/plain": [
              "(array([[1, 2, 3],\n",
              "        [4, 5, 6]]),\n",
              " array([1, 2, 3, 4, 5, 6]),\n",
              " array([1, 2, 3, 4, 5, 6]))"
            ]
          },
          "metadata": {},
          "execution_count": 62
        }
      ]
    },
    {
      "cell_type": "code",
      "source": [
        "x = np.arange(5)\n",
        "x, x.shape"
      ],
      "metadata": {
        "id": "s3MZ5233eJ4f",
        "outputId": "588f979b-db1e-4750-9b08-4640f62ca188",
        "colab": {
          "base_uri": "https://localhost:8080/"
        }
      },
      "execution_count": 63,
      "outputs": [
        {
          "output_type": "execute_result",
          "data": {
            "text/plain": [
              "(array([0, 1, 2, 3, 4]), (5,))"
            ]
          },
          "metadata": {},
          "execution_count": 63
        }
      ]
    },
    {
      "cell_type": "code",
      "source": [
        "x[:, np.newaxis], x[:, np.newaxis].shape"
      ],
      "metadata": {
        "id": "ppy9RUC3eV5r",
        "outputId": "5c184152-c2eb-4ea5-c686-e3827dc6cf6a",
        "colab": {
          "base_uri": "https://localhost:8080/"
        }
      },
      "execution_count": 64,
      "outputs": [
        {
          "output_type": "execute_result",
          "data": {
            "text/plain": [
              "(array([[0],\n",
              "        [1],\n",
              "        [2],\n",
              "        [3],\n",
              "        [4]]),\n",
              " (5, 1))"
            ]
          },
          "metadata": {},
          "execution_count": 64
        }
      ]
    },
    {
      "cell_type": "code",
      "source": [
        "x[:, np.newaxis], x[:, np.newaxis].shape"
      ],
      "metadata": {
        "id": "vNLX4uqgeXoz",
        "outputId": "395f6773-3b7e-4cae-a574-7be570e1a217",
        "colab": {
          "base_uri": "https://localhost:8080/"
        }
      },
      "execution_count": 65,
      "outputs": [
        {
          "output_type": "execute_result",
          "data": {
            "text/plain": [
              "(array([[0],\n",
              "        [1],\n",
              "        [2],\n",
              "        [3],\n",
              "        [4]]),\n",
              " (5, 1))"
            ]
          },
          "metadata": {},
          "execution_count": 65
        }
      ]
    },
    {
      "cell_type": "code",
      "source": [
        "#@title 배열 연결\n",
        "a = np.arange(1, 4)\n",
        "b = np.arange(10, 13)\n",
        "a, b"
      ],
      "metadata": {
        "id": "xEtwbDBCeZCO",
        "outputId": "8b374c54-b3d5-466f-9ad2-bf16da2b5f4c",
        "colab": {
          "base_uri": "https://localhost:8080/"
        }
      },
      "execution_count": 66,
      "outputs": [
        {
          "output_type": "execute_result",
          "data": {
            "text/plain": [
              "(array([1, 2, 3]), array([10, 11, 12]))"
            ]
          },
          "metadata": {},
          "execution_count": 66
        }
      ]
    },
    {
      "cell_type": "code",
      "source": [
        "np.concatenate((a, b)) # axis=0"
      ],
      "metadata": {
        "id": "7YryyCcEehh_",
        "outputId": "21801e49-d9c8-4f18-e876-4344e15b7532",
        "colab": {
          "base_uri": "https://localhost:8080/"
        }
      },
      "execution_count": 67,
      "outputs": [
        {
          "output_type": "execute_result",
          "data": {
            "text/plain": [
              "array([ 1,  2,  3, 10, 11, 12])"
            ]
          },
          "metadata": {},
          "execution_count": 67
        }
      ]
    },
    {
      "cell_type": "code",
      "source": [
        "np.concatenate((a, b), axis=0)\n",
        "# np.concatenate((a, b), axis=1) <- d"
      ],
      "metadata": {
        "id": "6BEgFD-rena4",
        "outputId": "c281d111-a2af-43ad-8fea-cd3905f7c290",
        "colab": {
          "base_uri": "https://localhost:8080/"
        }
      },
      "execution_count": 68,
      "outputs": [
        {
          "output_type": "execute_result",
          "data": {
            "text/plain": [
              "array([ 1,  2,  3, 10, 11, 12])"
            ]
          },
          "metadata": {},
          "execution_count": 68
        }
      ]
    },
    {
      "cell_type": "code",
      "source": [
        "# hstack\n",
        "a = np.ones((2, 3))\n",
        "b = np.zeros_like(a)\n",
        "a, b, np.hstack((a, b)), np.hstack((a, b)).shape, np.concatenate((a, b), axis=1)"
      ],
      "metadata": {
        "id": "kbzh0VOpev74",
        "outputId": "aa439954-b230-4891-cf83-676bd4e3a42b",
        "colab": {
          "base_uri": "https://localhost:8080/"
        }
      },
      "execution_count": 70,
      "outputs": [
        {
          "output_type": "execute_result",
          "data": {
            "text/plain": [
              "(array([[1., 1., 1.],\n",
              "        [1., 1., 1.]]),\n",
              " array([[0., 0., 0.],\n",
              "        [0., 0., 0.]]),\n",
              " array([[1., 1., 1., 0., 0., 0.],\n",
              "        [1., 1., 1., 0., 0., 0.]]),\n",
              " (2, 6),\n",
              " array([[1., 1., 1., 0., 0., 0.],\n",
              "        [1., 1., 1., 0., 0., 0.]]))"
            ]
          },
          "metadata": {},
          "execution_count": 70
        }
      ]
    },
    {
      "cell_type": "code",
      "source": [
        "# vstack\n",
        "a = np.ones((2, 3))\n",
        "b = np.zeros_like(a)\n",
        "a, b, np.vstack((a, b)), np.vstack((a, b)).shape, np.concatenate((a, b), axis=0)"
      ],
      "metadata": {
        "id": "BzDeTbrVfGIi",
        "outputId": "fa7b34c5-db2d-426d-bbe8-bd2dbde4f755",
        "colab": {
          "base_uri": "https://localhost:8080/"
        }
      },
      "execution_count": 71,
      "outputs": [
        {
          "output_type": "execute_result",
          "data": {
            "text/plain": [
              "(array([[1., 1., 1.],\n",
              "        [1., 1., 1.]]),\n",
              " array([[0., 0., 0.],\n",
              "        [0., 0., 0.]]),\n",
              " array([[1., 1., 1.],\n",
              "        [1., 1., 1.],\n",
              "        [0., 0., 0.],\n",
              "        [0., 0., 0.]]),\n",
              " (4, 3),\n",
              " array([[1., 1., 1.],\n",
              "        [1., 1., 1.],\n",
              "        [0., 0., 0.],\n",
              "        [0., 0., 0.]]))"
            ]
          },
          "metadata": {},
          "execution_count": 71
        }
      ]
    },
    {
      "cell_type": "code",
      "source": [
        "# dstack\n",
        "a = np.ones((2, 3))\n",
        "b = np.zeros_like(a)\n",
        "a, b, np.dstack((a, b)), np.dstack((a, b)).shape"
      ],
      "metadata": {
        "id": "zEjSmOZ-faNV",
        "outputId": "7eae8497-b4b7-49cd-a7f8-cac8a04522e9",
        "colab": {
          "base_uri": "https://localhost:8080/"
        }
      },
      "execution_count": 72,
      "outputs": [
        {
          "output_type": "execute_result",
          "data": {
            "text/plain": [
              "(array([[1., 1., 1.],\n",
              "        [1., 1., 1.]]),\n",
              " array([[0., 0., 0.],\n",
              "        [0., 0., 0.]]),\n",
              " array([[[1., 0.],\n",
              "         [1., 0.],\n",
              "         [1., 0.]],\n",
              " \n",
              "        [[1., 0.],\n",
              "         [1., 0.],\n",
              "         [1., 0.]]]),\n",
              " (2, 3, 2))"
            ]
          },
          "metadata": {},
          "execution_count": 72
        }
      ]
    },
    {
      "cell_type": "code",
      "source": [
        "# stack\n",
        "a = np.ones((2, 3))\n",
        "b = np.zeros_like(a)\n",
        "a, b, np.dstack((a, b)), np.dstack((a, b)).shape"
      ],
      "metadata": {
        "id": "R4Ivt1Imfc9i",
        "outputId": "788ae99c-6103-4dd7-8e03-5c34d652766c",
        "colab": {
          "base_uri": "https://localhost:8080/"
        }
      },
      "execution_count": 73,
      "outputs": [
        {
          "output_type": "execute_result",
          "data": {
            "text/plain": [
              "(array([[1., 1., 1.],\n",
              "        [1., 1., 1.]]),\n",
              " array([[0., 0., 0.],\n",
              "        [0., 0., 0.]]),\n",
              " array([[[1., 0.],\n",
              "         [1., 0.],\n",
              "         [1., 0.]],\n",
              " \n",
              "        [[1., 0.],\n",
              "         [1., 0.],\n",
              "         [1., 0.]]]),\n",
              " (2, 3, 2))"
            ]
          },
          "metadata": {},
          "execution_count": 73
        }
      ]
    },
    {
      "cell_type": "code",
      "source": [
        "axis = 0\n",
        "np.stack((a, b), axis=0), np.stack((a, b), axis=0).shape  # axis=0"
      ],
      "metadata": {
        "id": "cvFmnFjQfiOJ",
        "outputId": "8b0f8ff0-abee-4882-bf7e-bf5f5cdeca8d",
        "colab": {
          "base_uri": "https://localhost:8080/"
        }
      },
      "execution_count": 74,
      "outputs": [
        {
          "output_type": "execute_result",
          "data": {
            "text/plain": [
              "(array([[[1., 1., 1.],\n",
              "         [1., 1., 1.]],\n",
              " \n",
              "        [[0., 0., 0.],\n",
              "         [0., 0., 0.]]]),\n",
              " (2, 2, 3))"
            ]
          },
          "metadata": {},
          "execution_count": 74
        }
      ]
    },
    {
      "cell_type": "code",
      "source": [
        "axis = 1\n",
        "np.stack((a, b), axis=axis), np.stack((a, b), axis=axis).shape  # axis=1"
      ],
      "metadata": {
        "id": "miZrTwucfsX1",
        "outputId": "d61b9601-892a-46c6-97ee-18fa986b5833",
        "colab": {
          "base_uri": "https://localhost:8080/"
        }
      },
      "execution_count": 75,
      "outputs": [
        {
          "output_type": "execute_result",
          "data": {
            "text/plain": [
              "(array([[[1., 1., 1.],\n",
              "         [0., 0., 0.]],\n",
              " \n",
              "        [[1., 1., 1.],\n",
              "         [0., 0., 0.]]]),\n",
              " (2, 2, 3))"
            ]
          },
          "metadata": {},
          "execution_count": 75
        }
      ]
    },
    {
      "cell_type": "code",
      "source": [
        "axis = 2\n",
        "np.stack((a, b), axis=axis), np.stack((a, b), axis=axis).shape  # axis=1\n"
      ],
      "metadata": {
        "id": "hfTDLZSwfv_m",
        "outputId": "023b5761-66a3-492b-9bca-4cb28998feff",
        "colab": {
          "base_uri": "https://localhost:8080/"
        }
      },
      "execution_count": 76,
      "outputs": [
        {
          "output_type": "execute_result",
          "data": {
            "text/plain": [
              "(array([[[1., 0.],\n",
              "         [1., 0.],\n",
              "         [1., 0.]],\n",
              " \n",
              "        [[1., 0.],\n",
              "         [1., 0.],\n",
              "         [1., 0.]]]),\n",
              " (2, 3, 2))"
            ]
          },
          "metadata": {},
          "execution_count": 76
        }
      ]
    },
    {
      "cell_type": "code",
      "source": [
        "a = np.arange(1, 4)\n",
        "b = np.arange(4, 7)\n",
        "np.r_[a, b]"
      ],
      "metadata": {
        "id": "46TV-3MMf9C2",
        "outputId": "51356389-d0d9-438f-fe28-255966bd5dc4",
        "colab": {
          "base_uri": "https://localhost:8080/"
        }
      },
      "execution_count": 77,
      "outputs": [
        {
          "output_type": "execute_result",
          "data": {
            "text/plain": [
              "array([1, 2, 3, 4, 5, 6])"
            ]
          },
          "metadata": {},
          "execution_count": 77
        }
      ]
    },
    {
      "cell_type": "code",
      "source": [
        "np.c_[a, b]"
      ],
      "metadata": {
        "id": "YRtFsRs1gDg7",
        "outputId": "83d8169e-7943-4e6c-d933-5641439d93a1",
        "colab": {
          "base_uri": "https://localhost:8080/"
        }
      },
      "execution_count": 78,
      "outputs": [
        {
          "output_type": "execute_result",
          "data": {
            "text/plain": [
              "array([[1, 4],\n",
              "       [2, 5],\n",
              "       [3, 6]])"
            ]
          },
          "metadata": {},
          "execution_count": 78
        }
      ]
    },
    {
      "cell_type": "code",
      "source": [
        "np.tile(a, 2)"
      ],
      "metadata": {
        "id": "OktTpSDkgFFh",
        "outputId": "62ff69ad-290c-40ce-a11c-958bfdd2274a",
        "colab": {
          "base_uri": "https://localhost:8080/"
        }
      },
      "execution_count": 79,
      "outputs": [
        {
          "output_type": "execute_result",
          "data": {
            "text/plain": [
              "array([1, 2, 3, 1, 2, 3])"
            ]
          },
          "metadata": {},
          "execution_count": 79
        }
      ]
    },
    {
      "cell_type": "code",
      "source": [
        "np.tile(a, (2, 2))"
      ],
      "metadata": {
        "id": "pN3wPPPogGY5",
        "outputId": "be457b2e-d584-4774-fda3-66fa51ac5f5f",
        "colab": {
          "base_uri": "https://localhost:8080/"
        }
      },
      "execution_count": 80,
      "outputs": [
        {
          "output_type": "execute_result",
          "data": {
            "text/plain": [
              "array([[1, 2, 3, 1, 2, 3],\n",
              "       [1, 2, 3, 1, 2, 3]])"
            ]
          },
          "metadata": {},
          "execution_count": 80
        }
      ]
    },
    {
      "cell_type": "code",
      "source": [
        "c = np.tile(a, (2, 2))\n",
        "np.array_split(c, 2)"
      ],
      "metadata": {
        "id": "oC3FZPIjgNiZ",
        "outputId": "62d41113-4338-4216-cfcc-8555a5280eb8",
        "colab": {
          "base_uri": "https://localhost:8080/"
        }
      },
      "execution_count": 81,
      "outputs": [
        {
          "output_type": "execute_result",
          "data": {
            "text/plain": [
              "[array([[1, 2, 3, 1, 2, 3]]), array([[1, 2, 3, 1, 2, 3]])]"
            ]
          },
          "metadata": {},
          "execution_count": 81
        }
      ]
    },
    {
      "cell_type": "code",
      "source": [
        "np.split(c, 2)"
      ],
      "metadata": {
        "id": "DdHxDjHggPYc",
        "outputId": "dad0b805-6267-4586-d336-7c2bd9bda67d",
        "colab": {
          "base_uri": "https://localhost:8080/"
        }
      },
      "execution_count": 82,
      "outputs": [
        {
          "output_type": "execute_result",
          "data": {
            "text/plain": [
              "[array([[1, 2, 3, 1, 2, 3]]), array([[1, 2, 3, 1, 2, 3]])]"
            ]
          },
          "metadata": {},
          "execution_count": 82
        }
      ]
    },
    {
      "cell_type": "code",
      "source": [
        "np.array_split(c, 2, axis=0)"
      ],
      "metadata": {
        "id": "6KReTe9jgVAq",
        "outputId": "a7afb774-632a-4308-e4b5-007e6d397a89",
        "colab": {
          "base_uri": "https://localhost:8080/"
        }
      },
      "execution_count": 83,
      "outputs": [
        {
          "output_type": "execute_result",
          "data": {
            "text/plain": [
              "[array([[1, 2, 3, 1, 2, 3]]), array([[1, 2, 3, 1, 2, 3]])]"
            ]
          },
          "metadata": {},
          "execution_count": 83
        }
      ]
    },
    {
      "cell_type": "code",
      "source": [
        "np.array_split(c, 2, axis=1)"
      ],
      "metadata": {
        "id": "t14dHzJRgWgw"
      },
      "execution_count": null,
      "outputs": []
    }
  ]
}